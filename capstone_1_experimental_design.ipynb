{
  "metadata": {
    "language_info": {
      "codemirror_mode": {
        "name": "python",
        "version": 3
      },
      "file_extension": ".py",
      "mimetype": "text/x-python",
      "name": "python",
      "nbconvert_exporter": "python",
      "pygments_lexer": "ipython3",
      "version": "3.8"
    },
    "kernelspec": {
      "name": "python",
      "display_name": "Python (Pyodide)",
      "language": "python"
    }
  },
  "nbformat_minor": 4,
  "nbformat": 4,
  "cells": [
    {
      "cell_type": "code",
      "source": "import numpy as np\nimport pandas as pd \nimport math\nfrom scipy import stats\nimport matplotlib.pyplot as plt",
      "metadata": {
        "trusted": true
      },
      "execution_count": 5,
      "outputs": []
    },
    {
      "cell_type": "code",
      "source": "df = pd.read_csv('data/movies.csv')",
      "metadata": {
        "trusted": true
      },
      "execution_count": 6,
      "outputs": []
    },
    {
      "cell_type": "code",
      "source": "df.info()",
      "metadata": {
        "trusted": true
      },
      "execution_count": 7,
      "outputs": [
        {
          "name": "stdout",
          "text": "<class 'pandas.core.frame.DataFrame'>\nRangeIndex: 7668 entries, 0 to 7667\nData columns (total 15 columns):\n #   Column    Non-Null Count  Dtype  \n---  ------    --------------  -----  \n 0   name      7668 non-null   object \n 1   rating    7591 non-null   object \n 2   genre     7668 non-null   object \n 3   year      7668 non-null   int64  \n 4   released  7666 non-null   object \n 5   score     7665 non-null   float64\n 6   votes     7665 non-null   float64\n 7   director  7668 non-null   object \n 8   writer    7665 non-null   object \n 9   star      7667 non-null   object \n 10  country   7665 non-null   object \n 11  budget    5497 non-null   float64\n 12  gross     7479 non-null   float64\n 13  company   7651 non-null   object \n 14  runtime   7664 non-null   float64\ndtypes: float64(5), int64(1), object(9)\nmemory usage: 629.1+ KB\n",
          "output_type": "stream"
        }
      ]
    },
    {
      "cell_type": "markdown",
      "source": "Based on the dataset summary, there are 35 null values for ratings which will not be included in the analysis. \nNext I will seperate the data frame into two(Comedy and Drama)",
      "metadata": {}
    },
    {
      "cell_type": "code",
      "source": "df_comedy = df[df['genre'] == 'Comedy']\n\ndf_comedy.info()",
      "metadata": {
        "trusted": true
      },
      "execution_count": 8,
      "outputs": [
        {
          "name": "stdout",
          "text": "<class 'pandas.core.frame.DataFrame'>\nInt64Index: 2245 entries, 3 to 7664\nData columns (total 15 columns):\n #   Column    Non-Null Count  Dtype  \n---  ------    --------------  -----  \n 0   name      2245 non-null   object \n 1   rating    2233 non-null   object \n 2   genre     2245 non-null   object \n 3   year      2245 non-null   int64  \n 4   released  2245 non-null   object \n 5   score     2245 non-null   float64\n 6   votes     2245 non-null   float64\n 7   director  2245 non-null   object \n 8   writer    2244 non-null   object \n 9   star      2245 non-null   object \n 10  country   2245 non-null   object \n 11  budget    1510 non-null   float64\n 12  gross     2192 non-null   float64\n 13  company   2243 non-null   object \n 14  runtime   2245 non-null   float64\ndtypes: float64(5), int64(1), object(9)\nmemory usage: 201.7+ KB\n",
          "output_type": "stream"
        }
      ]
    },
    {
      "cell_type": "code",
      "source": "df_drama = df[df['genre'] == 'Drama']\n\ndf_drama.info()",
      "metadata": {
        "trusted": true
      },
      "execution_count": 9,
      "outputs": [
        {
          "name": "stdout",
          "text": "<class 'pandas.core.frame.DataFrame'>\nInt64Index: 1518 entries, 0 to 7666\nData columns (total 15 columns):\n #   Column    Non-Null Count  Dtype  \n---  ------    --------------  -----  \n 0   name      1518 non-null   object \n 1   rating    1483 non-null   object \n 2   genre     1518 non-null   object \n 3   year      1518 non-null   int64  \n 4   released  1517 non-null   object \n 5   score     1516 non-null   float64\n 6   votes     1516 non-null   float64\n 7   director  1518 non-null   object \n 8   writer    1517 non-null   object \n 9   star      1518 non-null   object \n 10  country   1517 non-null   object \n 11  budget    880 non-null    float64\n 12  gross     1468 non-null   float64\n 13  company   1509 non-null   object \n 14  runtime   1516 non-null   float64\ndtypes: float64(5), int64(1), object(9)\nmemory usage: 136.4+ KB\n",
          "output_type": "stream"
        }
      ]
    },
    {
      "cell_type": "markdown",
      "source": "Visualization and stats of the data to determine if it is normally distributed.\n",
      "metadata": {}
    },
    {
      "cell_type": "code",
      "source": "import matplotlib.pyplot as plt\nplt.hist(df_drama[\"score\"].dropna(), alpha = .5,  label = \"Drama\")\nplt.hist(df_comedy[\"score\"].dropna(), alpha = .5, label = \"Comedy\")\nplt.legend(loc=\"upper right\")\nplt.title(\"IMDB Score\")\nplt.show()\n\nprint(stats.describe(df_drama[\"score\"].dropna()))\nprint(stats.describe(df_comedy[\"score\"].dropna()))",
      "metadata": {
        "trusted": true
      },
      "execution_count": 11,
      "outputs": [
        {
          "output_type": "display_data",
          "data": {
            "text/plain": "<Figure size 640x480 with 1 Axes>",
            "image/png": "[encoded data removed]"
          },
          "metadata": {}
        },
        {
          "name": "stdout",
          "text": "DescribeResult(nobs=1516, minmax=(2.3, 9.3), mean=6.693667546174143, variance=0.7626925468272422, skewness=-0.6772507977405915, kurtosis=1.206733301878666)\nDescribeResult(nobs=2245, minmax=(1.9, 8.6), mean=6.193986636971046, variance=0.8860823616751825, skewness=-0.725329694207455, kurtosis=1.3592011929806977)\n",
          "output_type": "stream"
        }
      ]
    },
    {
      "cell_type": "markdown",
      "source": "The skewness and kurtosis are with in reasonable meaures. The data meets the assumptions, and a t-test can be performed.",
      "metadata": {}
    },
    {
      "cell_type": "code",
      "source": "stats.ttest_ind(df_drama[\"score\"].dropna(),df_comedy[\"score\"].dropna())",
      "metadata": {
        "trusted": true
      },
      "execution_count": 12,
      "outputs": [
        {
          "execution_count": 12,
          "output_type": "execute_result",
          "data": {
            "text/plain": "Ttest_indResult(statistic=16.436307376038968, pvalue=1.1192397226142836e-58)"
          },
          "metadata": {}
        }
      ]
    },
    {
      "cell_type": "markdown",
      "source": "The t-statistic is greater than 1.96 and the p-value is less than .05, therefore I can reject the null hypothesis. \n",
      "metadata": {}
    },
    {
      "cell_type": "code",
      "source": "def get_95_ci(array_1, array_2):\n    sample_1_n = array_1.shape[0]\n    sample_2_n = array_2.shape[0]\n    sample_1_mean = array_1.mean()\n    sample_2_mean = array_2.mean()\n    sample_1_var = array_1.var()\n    sample_2_var = array_2.var()\n    mean_difference = sample_2_mean - sample_1_mean\n    std_err_difference = math.sqrt((sample_1_var/sample_1_n)+(sample_2_var/sample_2_n))\n    margin_of_error = 1.96 * std_err_difference\n    ci_lower = mean_difference - margin_of_error\n    ci_upper = mean_difference + margin_of_error\n    return(\"The difference in means at the 95% confidence interval (two-tail) is between \"+str(ci_lower)+\" and \"+str(ci_upper)+\".\")\n\nget_95_ci(df_drama[\"score\"].dropna(), df_comedy[\"score\"].dropna())",
      "metadata": {
        "trusted": true
      },
      "execution_count": 13,
      "outputs": [
        {
          "execution_count": 13,
          "output_type": "execute_result",
          "data": {
            "text/plain": "'The difference in means at the 95% confidence interval (two-tail) is between -0.5584085675752244 and -0.44095325083096865.'"
          },
          "metadata": {}
        }
      ]
    },
    {
      "cell_type": "markdown",
      "source": "With a 95% confidence, comedy movies have an imdb score 0.5 points lower than movies classified as dramas.",
      "metadata": {}
    },
    {
      "cell_type": "code",
      "source": "%pip install seaborn\n\n",
      "metadata": {
        "trusted": true
      },
      "execution_count": 23,
      "outputs": []
    },
    {
      "cell_type": "markdown",
      "source": "Visualizing the difference in means.",
      "metadata": {}
    },
    {
      "cell_type": "code",
      "source": "import seaborn as sns\n\ng = sns.pointplot(data=[df_drama[\"score\"].dropna(),\n                        df_comedy[\"score\"].dropna()], join=False)\ng.set(ylim=(5, 7))                       \ng.set(xticklabels = ['Drama', 'Comedy'])",
      "metadata": {
        "trusted": true
      },
      "execution_count": 25,
      "outputs": [
        {
          "execution_count": 25,
          "output_type": "execute_result",
          "data": {
            "text/plain": "[[Text(0, 0, 'Drama'), Text(1, 0, 'Comedy')]]"
          },
          "metadata": {}
        },
        {
          "output_type": "display_data",
          "data": {
            "text/plain": "<Figure size 640x480 with 1 Axes>",
            "image/png": "[encoded data removed]"
          },
          "metadata": {}
        }
      ]
    },
    {
      "cell_type": "code",
      "source": "",
      "metadata": {},
      "execution_count": null,
      "outputs": []
    }
  ]
}